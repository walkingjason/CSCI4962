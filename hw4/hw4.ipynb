{
  "nbformat": 4,
  "nbformat_minor": 0,
  "metadata": {
    "colab": {
      "provenance": [],
      "collapsed_sections": []
    },
    "kernelspec": {
      "name": "python3",
      "display_name": "Python 3"
    },
    "language_info": {
      "name": "python"
    }
  },
  "cells": [
    {
      "cell_type": "markdown",
      "source": [
        "# Task1\n",
        "## Part 1"
      ],
      "metadata": {
        "id": "5DbYMNai6XyR"
      }
    },
    {
      "cell_type": "code",
      "source": [
        "import pandas as pd \n",
        "import matplotlib.pyplot as plt\n",
        "import numpy as np\n",
        "import warnings\n",
        "import time\n",
        "from google.colab import drive\n",
        "warnings.filterwarnings(\"ignore\")\n",
        "\n",
        "from keras.models import Sequential  \n",
        "from keras.layers import Dense \n",
        "from keras.layers import SimpleRNN\n",
        "from keras.layers import GRU\n",
        "from sklearn.preprocessing import MinMaxScaler\n",
        "import math\n",
        "from sklearn.preprocessing import MinMaxScaler\n",
        "from sklearn.metrics import mean_squared_error\n",
        "from keras.layers import LSTM\n",
        "\n",
        "import gensim\n",
        "import spacy\n",
        "from gensim.models import Word2Vec\n",
        "import nltk\n",
        "from gensim.models import word2vec\n",
        "from gensim.models import KeyedVectors\n",
        "from sklearn.metrics.pairwise import cosine_similarity\n"
      ],
      "metadata": {
        "id": "LkjPfUhk6sH5"
      },
      "execution_count": null,
      "outputs": []
    },
    {
      "cell_type": "code",
      "source": [
        "# upload and read the file\n",
        "# https://www.kaggle.com/datasets/rahulsah06/gooogle-stock-price?select=Google_Stock_Price_Train.csv\n",
        "\n",
        "drive.mount('/content/drive', force_remount=True)\n",
        "raw_data = pd.read_csv('drive/MyDrive/datasets/Google_Stock_Price_Train.csv', sep=\",\")"
      ],
      "metadata": {
        "id": "wr-IBZLv9fdB",
        "colab": {
          "base_uri": "https://localhost:8080/"
        },
        "outputId": "055314a8-7457-44cc-bf4b-2a5732d36fc3"
      },
      "execution_count": null,
      "outputs": [
        {
          "output_type": "stream",
          "name": "stdout",
          "text": [
            "Mounted at /content/drive\n"
          ]
        }
      ]
    },
    {
      "cell_type": "code",
      "source": [
        "data = raw_data\n",
        "data.head()"
      ],
      "metadata": {
        "colab": {
          "base_uri": "https://localhost:8080/",
          "height": 206
        },
        "id": "6naKMXZC7CTg",
        "outputId": "1534555b-31e4-477c-8577-f340f0a6b7a7"
      },
      "execution_count": null,
      "outputs": [
        {
          "output_type": "execute_result",
          "data": {
            "text/plain": [
              "       Date    Open    High     Low   Close      Volume\n",
              "0  1/3/2012  325.25  332.83  324.97  663.59   7,380,500\n",
              "1  1/4/2012  331.27  333.87  329.08  666.45   5,749,400\n",
              "2  1/5/2012  329.83  330.75  326.89  657.21   6,590,300\n",
              "3  1/6/2012  328.34  328.77  323.68  648.24   5,405,900\n",
              "4  1/9/2012  322.04  322.29  309.46  620.76  11,688,800"
            ],
            "text/html": [
              "\n",
              "  <div id=\"df-c140fe0f-2f47-4a58-b2ec-86a8ef633360\">\n",
              "    <div class=\"colab-df-container\">\n",
              "      <div>\n",
              "<style scoped>\n",
              "    .dataframe tbody tr th:only-of-type {\n",
              "        vertical-align: middle;\n",
              "    }\n",
              "\n",
              "    .dataframe tbody tr th {\n",
              "        vertical-align: top;\n",
              "    }\n",
              "\n",
              "    .dataframe thead th {\n",
              "        text-align: right;\n",
              "    }\n",
              "</style>\n",
              "<table border=\"1\" class=\"dataframe\">\n",
              "  <thead>\n",
              "    <tr style=\"text-align: right;\">\n",
              "      <th></th>\n",
              "      <th>Date</th>\n",
              "      <th>Open</th>\n",
              "      <th>High</th>\n",
              "      <th>Low</th>\n",
              "      <th>Close</th>\n",
              "      <th>Volume</th>\n",
              "    </tr>\n",
              "  </thead>\n",
              "  <tbody>\n",
              "    <tr>\n",
              "      <th>0</th>\n",
              "      <td>1/3/2012</td>\n",
              "      <td>325.25</td>\n",
              "      <td>332.83</td>\n",
              "      <td>324.97</td>\n",
              "      <td>663.59</td>\n",
              "      <td>7,380,500</td>\n",
              "    </tr>\n",
              "    <tr>\n",
              "      <th>1</th>\n",
              "      <td>1/4/2012</td>\n",
              "      <td>331.27</td>\n",
              "      <td>333.87</td>\n",
              "      <td>329.08</td>\n",
              "      <td>666.45</td>\n",
              "      <td>5,749,400</td>\n",
              "    </tr>\n",
              "    <tr>\n",
              "      <th>2</th>\n",
              "      <td>1/5/2012</td>\n",
              "      <td>329.83</td>\n",
              "      <td>330.75</td>\n",
              "      <td>326.89</td>\n",
              "      <td>657.21</td>\n",
              "      <td>6,590,300</td>\n",
              "    </tr>\n",
              "    <tr>\n",
              "      <th>3</th>\n",
              "      <td>1/6/2012</td>\n",
              "      <td>328.34</td>\n",
              "      <td>328.77</td>\n",
              "      <td>323.68</td>\n",
              "      <td>648.24</td>\n",
              "      <td>5,405,900</td>\n",
              "    </tr>\n",
              "    <tr>\n",
              "      <th>4</th>\n",
              "      <td>1/9/2012</td>\n",
              "      <td>322.04</td>\n",
              "      <td>322.29</td>\n",
              "      <td>309.46</td>\n",
              "      <td>620.76</td>\n",
              "      <td>11,688,800</td>\n",
              "    </tr>\n",
              "  </tbody>\n",
              "</table>\n",
              "</div>\n",
              "      <button class=\"colab-df-convert\" onclick=\"convertToInteractive('df-c140fe0f-2f47-4a58-b2ec-86a8ef633360')\"\n",
              "              title=\"Convert this dataframe to an interactive table.\"\n",
              "              style=\"display:none;\">\n",
              "        \n",
              "  <svg xmlns=\"http://www.w3.org/2000/svg\" height=\"24px\"viewBox=\"0 0 24 24\"\n",
              "       width=\"24px\">\n",
              "    <path d=\"M0 0h24v24H0V0z\" fill=\"none\"/>\n",
              "    <path d=\"M18.56 5.44l.94 2.06.94-2.06 2.06-.94-2.06-.94-.94-2.06-.94 2.06-2.06.94zm-11 1L8.5 8.5l.94-2.06 2.06-.94-2.06-.94L8.5 2.5l-.94 2.06-2.06.94zm10 10l.94 2.06.94-2.06 2.06-.94-2.06-.94-.94-2.06-.94 2.06-2.06.94z\"/><path d=\"M17.41 7.96l-1.37-1.37c-.4-.4-.92-.59-1.43-.59-.52 0-1.04.2-1.43.59L10.3 9.45l-7.72 7.72c-.78.78-.78 2.05 0 2.83L4 21.41c.39.39.9.59 1.41.59.51 0 1.02-.2 1.41-.59l7.78-7.78 2.81-2.81c.8-.78.8-2.07 0-2.86zM5.41 20L4 18.59l7.72-7.72 1.47 1.35L5.41 20z\"/>\n",
              "  </svg>\n",
              "      </button>\n",
              "      \n",
              "  <style>\n",
              "    .colab-df-container {\n",
              "      display:flex;\n",
              "      flex-wrap:wrap;\n",
              "      gap: 12px;\n",
              "    }\n",
              "\n",
              "    .colab-df-convert {\n",
              "      background-color: #E8F0FE;\n",
              "      border: none;\n",
              "      border-radius: 50%;\n",
              "      cursor: pointer;\n",
              "      display: none;\n",
              "      fill: #1967D2;\n",
              "      height: 32px;\n",
              "      padding: 0 0 0 0;\n",
              "      width: 32px;\n",
              "    }\n",
              "\n",
              "    .colab-df-convert:hover {\n",
              "      background-color: #E2EBFA;\n",
              "      box-shadow: 0px 1px 2px rgba(60, 64, 67, 0.3), 0px 1px 3px 1px rgba(60, 64, 67, 0.15);\n",
              "      fill: #174EA6;\n",
              "    }\n",
              "\n",
              "    [theme=dark] .colab-df-convert {\n",
              "      background-color: #3B4455;\n",
              "      fill: #D2E3FC;\n",
              "    }\n",
              "\n",
              "    [theme=dark] .colab-df-convert:hover {\n",
              "      background-color: #434B5C;\n",
              "      box-shadow: 0px 1px 3px 1px rgba(0, 0, 0, 0.15);\n",
              "      filter: drop-shadow(0px 1px 2px rgba(0, 0, 0, 0.3));\n",
              "      fill: #FFFFFF;\n",
              "    }\n",
              "  </style>\n",
              "\n",
              "      <script>\n",
              "        const buttonEl =\n",
              "          document.querySelector('#df-c140fe0f-2f47-4a58-b2ec-86a8ef633360 button.colab-df-convert');\n",
              "        buttonEl.style.display =\n",
              "          google.colab.kernel.accessAllowed ? 'block' : 'none';\n",
              "\n",
              "        async function convertToInteractive(key) {\n",
              "          const element = document.querySelector('#df-c140fe0f-2f47-4a58-b2ec-86a8ef633360');\n",
              "          const dataTable =\n",
              "            await google.colab.kernel.invokeFunction('convertToInteractive',\n",
              "                                                     [key], {});\n",
              "          if (!dataTable) return;\n",
              "\n",
              "          const docLinkHtml = 'Like what you see? Visit the ' +\n",
              "            '<a target=\"_blank\" href=https://colab.research.google.com/notebooks/data_table.ipynb>data table notebook</a>'\n",
              "            + ' to learn more about interactive tables.';\n",
              "          element.innerHTML = '';\n",
              "          dataTable['output_type'] = 'display_data';\n",
              "          await google.colab.output.renderOutput(dataTable, element);\n",
              "          const docLink = document.createElement('div');\n",
              "          docLink.innerHTML = docLinkHtml;\n",
              "          element.appendChild(docLink);\n",
              "        }\n",
              "      </script>\n",
              "    </div>\n",
              "  </div>\n",
              "  "
            ]
          },
          "metadata": {},
          "execution_count": 34
        }
      ]
    },
    {
      "cell_type": "code",
      "source": [
        "data.describe()"
      ],
      "metadata": {
        "colab": {
          "base_uri": "https://localhost:8080/",
          "height": 300
        },
        "id": "zPTNmc1e8Lnl",
        "outputId": "6bab994e-cf37-4425-a21d-c624e933ea21"
      },
      "execution_count": null,
      "outputs": [
        {
          "output_type": "execute_result",
          "data": {
            "text/plain": [
              "              Open         High          Low\n",
              "count  1258.000000  1258.000000  1258.000000\n",
              "mean    533.709833   537.880223   529.007409\n",
              "std     151.904442   153.008811   150.552807\n",
              "min     279.120000   281.210000   277.220000\n",
              "25%     404.115000   406.765000   401.765000\n",
              "50%     537.470000   540.750000   532.990000\n",
              "75%     654.922500   662.587500   644.800000\n",
              "max     816.680000   816.680000   805.140000"
            ],
            "text/html": [
              "\n",
              "  <div id=\"df-3875e374-8c2f-4089-8e2c-484af70069b3\">\n",
              "    <div class=\"colab-df-container\">\n",
              "      <div>\n",
              "<style scoped>\n",
              "    .dataframe tbody tr th:only-of-type {\n",
              "        vertical-align: middle;\n",
              "    }\n",
              "\n",
              "    .dataframe tbody tr th {\n",
              "        vertical-align: top;\n",
              "    }\n",
              "\n",
              "    .dataframe thead th {\n",
              "        text-align: right;\n",
              "    }\n",
              "</style>\n",
              "<table border=\"1\" class=\"dataframe\">\n",
              "  <thead>\n",
              "    <tr style=\"text-align: right;\">\n",
              "      <th></th>\n",
              "      <th>Open</th>\n",
              "      <th>High</th>\n",
              "      <th>Low</th>\n",
              "    </tr>\n",
              "  </thead>\n",
              "  <tbody>\n",
              "    <tr>\n",
              "      <th>count</th>\n",
              "      <td>1258.000000</td>\n",
              "      <td>1258.000000</td>\n",
              "      <td>1258.000000</td>\n",
              "    </tr>\n",
              "    <tr>\n",
              "      <th>mean</th>\n",
              "      <td>533.709833</td>\n",
              "      <td>537.880223</td>\n",
              "      <td>529.007409</td>\n",
              "    </tr>\n",
              "    <tr>\n",
              "      <th>std</th>\n",
              "      <td>151.904442</td>\n",
              "      <td>153.008811</td>\n",
              "      <td>150.552807</td>\n",
              "    </tr>\n",
              "    <tr>\n",
              "      <th>min</th>\n",
              "      <td>279.120000</td>\n",
              "      <td>281.210000</td>\n",
              "      <td>277.220000</td>\n",
              "    </tr>\n",
              "    <tr>\n",
              "      <th>25%</th>\n",
              "      <td>404.115000</td>\n",
              "      <td>406.765000</td>\n",
              "      <td>401.765000</td>\n",
              "    </tr>\n",
              "    <tr>\n",
              "      <th>50%</th>\n",
              "      <td>537.470000</td>\n",
              "      <td>540.750000</td>\n",
              "      <td>532.990000</td>\n",
              "    </tr>\n",
              "    <tr>\n",
              "      <th>75%</th>\n",
              "      <td>654.922500</td>\n",
              "      <td>662.587500</td>\n",
              "      <td>644.800000</td>\n",
              "    </tr>\n",
              "    <tr>\n",
              "      <th>max</th>\n",
              "      <td>816.680000</td>\n",
              "      <td>816.680000</td>\n",
              "      <td>805.140000</td>\n",
              "    </tr>\n",
              "  </tbody>\n",
              "</table>\n",
              "</div>\n",
              "      <button class=\"colab-df-convert\" onclick=\"convertToInteractive('df-3875e374-8c2f-4089-8e2c-484af70069b3')\"\n",
              "              title=\"Convert this dataframe to an interactive table.\"\n",
              "              style=\"display:none;\">\n",
              "        \n",
              "  <svg xmlns=\"http://www.w3.org/2000/svg\" height=\"24px\"viewBox=\"0 0 24 24\"\n",
              "       width=\"24px\">\n",
              "    <path d=\"M0 0h24v24H0V0z\" fill=\"none\"/>\n",
              "    <path d=\"M18.56 5.44l.94 2.06.94-2.06 2.06-.94-2.06-.94-.94-2.06-.94 2.06-2.06.94zm-11 1L8.5 8.5l.94-2.06 2.06-.94-2.06-.94L8.5 2.5l-.94 2.06-2.06.94zm10 10l.94 2.06.94-2.06 2.06-.94-2.06-.94-.94-2.06-.94 2.06-2.06.94z\"/><path d=\"M17.41 7.96l-1.37-1.37c-.4-.4-.92-.59-1.43-.59-.52 0-1.04.2-1.43.59L10.3 9.45l-7.72 7.72c-.78.78-.78 2.05 0 2.83L4 21.41c.39.39.9.59 1.41.59.51 0 1.02-.2 1.41-.59l7.78-7.78 2.81-2.81c.8-.78.8-2.07 0-2.86zM5.41 20L4 18.59l7.72-7.72 1.47 1.35L5.41 20z\"/>\n",
              "  </svg>\n",
              "      </button>\n",
              "      \n",
              "  <style>\n",
              "    .colab-df-container {\n",
              "      display:flex;\n",
              "      flex-wrap:wrap;\n",
              "      gap: 12px;\n",
              "    }\n",
              "\n",
              "    .colab-df-convert {\n",
              "      background-color: #E8F0FE;\n",
              "      border: none;\n",
              "      border-radius: 50%;\n",
              "      cursor: pointer;\n",
              "      display: none;\n",
              "      fill: #1967D2;\n",
              "      height: 32px;\n",
              "      padding: 0 0 0 0;\n",
              "      width: 32px;\n",
              "    }\n",
              "\n",
              "    .colab-df-convert:hover {\n",
              "      background-color: #E2EBFA;\n",
              "      box-shadow: 0px 1px 2px rgba(60, 64, 67, 0.3), 0px 1px 3px 1px rgba(60, 64, 67, 0.15);\n",
              "      fill: #174EA6;\n",
              "    }\n",
              "\n",
              "    [theme=dark] .colab-df-convert {\n",
              "      background-color: #3B4455;\n",
              "      fill: #D2E3FC;\n",
              "    }\n",
              "\n",
              "    [theme=dark] .colab-df-convert:hover {\n",
              "      background-color: #434B5C;\n",
              "      box-shadow: 0px 1px 3px 1px rgba(0, 0, 0, 0.15);\n",
              "      filter: drop-shadow(0px 1px 2px rgba(0, 0, 0, 0.3));\n",
              "      fill: #FFFFFF;\n",
              "    }\n",
              "  </style>\n",
              "\n",
              "      <script>\n",
              "        const buttonEl =\n",
              "          document.querySelector('#df-3875e374-8c2f-4089-8e2c-484af70069b3 button.colab-df-convert');\n",
              "        buttonEl.style.display =\n",
              "          google.colab.kernel.accessAllowed ? 'block' : 'none';\n",
              "\n",
              "        async function convertToInteractive(key) {\n",
              "          const element = document.querySelector('#df-3875e374-8c2f-4089-8e2c-484af70069b3');\n",
              "          const dataTable =\n",
              "            await google.colab.kernel.invokeFunction('convertToInteractive',\n",
              "                                                     [key], {});\n",
              "          if (!dataTable) return;\n",
              "\n",
              "          const docLinkHtml = 'Like what you see? Visit the ' +\n",
              "            '<a target=\"_blank\" href=https://colab.research.google.com/notebooks/data_table.ipynb>data table notebook</a>'\n",
              "            + ' to learn more about interactive tables.';\n",
              "          element.innerHTML = '';\n",
              "          dataTable['output_type'] = 'display_data';\n",
              "          await google.colab.output.renderOutput(dataTable, element);\n",
              "          const docLink = document.createElement('div');\n",
              "          docLink.innerHTML = docLinkHtml;\n",
              "          element.appendChild(docLink);\n",
              "        }\n",
              "      </script>\n",
              "    </div>\n",
              "  </div>\n",
              "  "
            ]
          },
          "metadata": {},
          "execution_count": 5
        }
      ]
    },
    {
      "cell_type": "code",
      "source": [
        "data.isnull().sum()"
      ],
      "metadata": {
        "colab": {
          "base_uri": "https://localhost:8080/"
        },
        "id": "CZ6-9iM99w-x",
        "outputId": "d888abba-5901-4b25-e02c-7b45aabee130"
      },
      "execution_count": null,
      "outputs": [
        {
          "output_type": "execute_result",
          "data": {
            "text/plain": [
              "Date      0\n",
              "Open      0\n",
              "High      0\n",
              "Low       0\n",
              "Close     0\n",
              "Volume    0\n",
              "dtype: int64"
            ]
          },
          "metadata": {},
          "execution_count": 6
        }
      ]
    },
    {
      "cell_type": "code",
      "source": [
        "data.loc[:,[\"Open\"]].values\n",
        "data = data.loc[:,[\"Open\"]].values\n",
        "train = data[:math.floor(len(data) * 0.8)] \n",
        "val = data[len(train):len(train) + math.floor(len(data) * 0.1)]\n",
        "test = data[:math.floor(len(data) * 0.1)]\n",
        "train=train.reshape(train.shape[0],1)\n",
        "val=val.reshape(val.shape[0],1)\n",
        "sc=MinMaxScaler(feature_range=(0,1))\n",
        "data_scaled = sc.fit_transform(train)"
      ],
      "metadata": {
        "id": "yoVNNfmH9xF5"
      },
      "execution_count": null,
      "outputs": []
    },
    {
      "cell_type": "code",
      "source": [
        "def data_split(data, days):\n",
        "  X = [];\n",
        "  y = []\n",
        "  for i in range(days, data.shape[0]):\n",
        "    X.append(data_scaled[i-days:i,0])\n",
        "    y.append(data_scaled[i,0])\n",
        "  return np.array(X), np.array(y)"
      ],
      "metadata": {
        "id": "Tg4yWQ9K_vBK"
      },
      "execution_count": null,
      "outputs": []
    },
    {
      "cell_type": "code",
      "source": [
        "X_train, y_train = data_split(train, 30)\n",
        "X_train = X_train.reshape(X_train.shape[0], X_train.shape[1], 1)\n",
        "X_val, y_val = data_split(val, 30)\n",
        "X_val = X_val.reshape(X_val.shape[0], X_val.shape[1], 1)\n",
        "X_test, y_test = data_split(test, 30)\n",
        "X_test = X_test.reshape(X_test.shape[0], X_test.shape[1], 1)\n"
      ],
      "metadata": {
        "id": "ygDW5BODBRjl"
      },
      "execution_count": null,
      "outputs": []
    },
    {
      "cell_type": "code",
      "source": [
        "# The two RNN layers each have 30 units. The activation function for both is tanh.\n",
        "# The output layer has 1 unit, and doesn't have an activation function (linear).\n",
        "\n",
        "regressor = Sequential()\n",
        "regressor.add(SimpleRNN(units=30, activation='tanh', return_sequences = True))\n",
        "regressor.add(SimpleRNN(units=30, activation='tanh', return_sequences = True))\n",
        "regressor.add(Dense(units=1))\n",
        "regressor.compile(loss=\"mean_squared_error\")\n",
        "history = regressor.fit(X_train, y_train, epochs=20, validation_data=(X_val, y_val))"
      ],
      "metadata": {
        "id": "_TZg5tCe9xN-",
        "colab": {
          "base_uri": "https://localhost:8080/"
        },
        "outputId": "b2c14a6a-1cf5-42a2-b263-ccf1abb6e9d2"
      },
      "execution_count": null,
      "outputs": [
        {
          "output_type": "stream",
          "name": "stdout",
          "text": [
            "Epoch 1/20\n",
            "31/31 [==============================] - 3s 20ms/step - loss: 0.1562 - val_loss: 0.0803\n",
            "Epoch 2/20\n",
            "31/31 [==============================] - 0s 11ms/step - loss: 0.0684 - val_loss: 0.0974\n",
            "Epoch 3/20\n",
            "31/31 [==============================] - 0s 10ms/step - loss: 0.0649 - val_loss: 0.2102\n",
            "Epoch 4/20\n",
            "31/31 [==============================] - 0s 10ms/step - loss: 0.0632 - val_loss: 0.1146\n",
            "Epoch 5/20\n",
            "31/31 [==============================] - 0s 10ms/step - loss: 0.0621 - val_loss: 0.0995\n",
            "Epoch 6/20\n",
            "31/31 [==============================] - 0s 10ms/step - loss: 0.0600 - val_loss: 0.0947\n",
            "Epoch 7/20\n",
            "31/31 [==============================] - 0s 10ms/step - loss: 0.0598 - val_loss: 0.0748\n",
            "Epoch 8/20\n",
            "31/31 [==============================] - 0s 10ms/step - loss: 0.0601 - val_loss: 0.0844\n",
            "Epoch 9/20\n",
            "31/31 [==============================] - 0s 11ms/step - loss: 0.0593 - val_loss: 0.1697\n",
            "Epoch 10/20\n",
            "31/31 [==============================] - 0s 10ms/step - loss: 0.0592 - val_loss: 0.1222\n",
            "Epoch 11/20\n",
            "31/31 [==============================] - 0s 11ms/step - loss: 0.0588 - val_loss: 0.0768\n",
            "Epoch 12/20\n",
            "31/31 [==============================] - 0s 11ms/step - loss: 0.0595 - val_loss: 0.1071\n",
            "Epoch 13/20\n",
            "31/31 [==============================] - 0s 11ms/step - loss: 0.0593 - val_loss: 0.1197\n",
            "Epoch 14/20\n",
            "31/31 [==============================] - 0s 11ms/step - loss: 0.0598 - val_loss: 0.0974\n",
            "Epoch 15/20\n",
            "31/31 [==============================] - 0s 10ms/step - loss: 0.0588 - val_loss: 0.0820\n",
            "Epoch 16/20\n",
            "31/31 [==============================] - 0s 10ms/step - loss: 0.0590 - val_loss: 0.0844\n",
            "Epoch 17/20\n",
            "31/31 [==============================] - 0s 10ms/step - loss: 0.0593 - val_loss: 0.1208\n",
            "Epoch 18/20\n",
            "31/31 [==============================] - 0s 10ms/step - loss: 0.0587 - val_loss: 0.1610\n",
            "Epoch 19/20\n",
            "31/31 [==============================] - 0s 10ms/step - loss: 0.0591 - val_loss: 0.1292\n",
            "Epoch 20/20\n",
            "31/31 [==============================] - 0s 9ms/step - loss: 0.0584 - val_loss: 0.0994\n"
          ]
        }
      ]
    },
    {
      "cell_type": "code",
      "source": [
        "training_loss = history.history['loss']\n",
        "val_loss = history.history['val_loss']\n",
        "epoch_count = range(1, len(training_loss) + 1)\n",
        "plt.plot(epoch_count, training_loss, 'r--')\n",
        "plt.plot(epoch_count, val_loss, 'b-')\n",
        "plt.legend(['Train Loss', 'Val Loss'])\n",
        "plt.xlabel('Epoch')\n",
        "plt.ylabel('Loss')\n",
        "plt.show();"
      ],
      "metadata": {
        "colab": {
          "base_uri": "https://localhost:8080/",
          "height": 279
        },
        "id": "71RNFSnqZ2gm",
        "outputId": "c8ce5aad-70bf-478c-8946-0b81fd0a916f"
      },
      "execution_count": null,
      "outputs": [
        {
          "output_type": "display_data",
          "data": {
            "text/plain": [
              "<Figure size 432x288 with 1 Axes>"
            ],
            "image/png": "[encoded data removed]"
          },
          "metadata": {
            "needs_background": "light"
          }
        }
      ]
    },
    {
      "cell_type": "code",
      "source": [
        "X_test = []\n",
        "for i in range(0, test.shape[0] - 30):\n",
        "  X_test.append(test[i:i + 30, 0])\n",
        "X_test = np.array(X_test)\n",
        "X_test = X_test.reshape(X_test.shape[0], X_test.shape[1], 1)\n",
        "print(X_test.shape)\n",
        "print(y_test.shape)"
      ],
      "metadata": {
        "id": "z619Cypu_PHa",
        "colab": {
          "base_uri": "https://localhost:8080/"
        },
        "outputId": "937eb99a-0c3b-4b32-998d-f16774b1cef3"
      },
      "execution_count": null,
      "outputs": [
        {
          "output_type": "stream",
          "name": "stdout",
          "text": [
            "(95, 30, 1)\n",
            "(95,)\n"
          ]
        }
      ]
    },
    {
      "cell_type": "code",
      "source": [
        "# Performance measurement\n",
        "prediction = regressor.predict(X_test)\n",
        "prediction = prediction[:, 0, :]\n",
        "prediction.shape\n",
        "# The metric I choose to use to measure performance is the mean squared error.\n",
        "math.sqrt(mean_squared_error(y_test, prediction))"
      ],
      "metadata": {
        "id": "Iuc1WMDo9xZm",
        "colab": {
          "base_uri": "https://localhost:8080/"
        },
        "outputId": "92dd057b-491e-4c6a-f13d-3bfc27d014de"
      },
      "execution_count": null,
      "outputs": [
        {
          "output_type": "stream",
          "name": "stdout",
          "text": [
            "3/3 [==============================] - 0s 5ms/step\n"
          ]
        },
        {
          "output_type": "execute_result",
          "data": {
            "text/plain": [
              "0.56199668526349"
            ]
          },
          "metadata": {},
          "execution_count": 13
        }
      ]
    },
    {
      "cell_type": "markdown",
      "source": [
        "## Part 2"
      ],
      "metadata": {
        "id": "zTrGUPjx6gIs"
      }
    },
    {
      "cell_type": "code",
      "source": [
        "# There is one single layer of LSTM. It has 5 units. The activation function is default to tanh, and the recurrent activation function is default to sigmoid.\n",
        "# The output layer has 1 unit, and doesn't have an activation function (linear).\n",
        "\n",
        "regressor_lstm = Sequential()\n",
        "regressor_lstm.add(LSTM(5))\n",
        "regressor_lstm.add(Dense(units=1))\n",
        "regressor_lstm.compile(loss=\"mean_squared_error\")\n",
        "history = regressor_lstm.fit(X_train, y_train, epochs=20, validation_data=(X_val, y_val))"
      ],
      "metadata": {
        "colab": {
          "base_uri": "https://localhost:8080/"
        },
        "id": "VkkNDggDRYSH",
        "outputId": "e1509c57-3926-423e-c426-fc38472cbb74"
      },
      "execution_count": null,
      "outputs": [
        {
          "output_type": "stream",
          "name": "stdout",
          "text": [
            "Epoch 1/20\n",
            "31/31 [==============================] - 4s 40ms/step - loss: 0.0724 - val_loss: 0.0093\n",
            "Epoch 2/20\n",
            "31/31 [==============================] - 0s 10ms/step - loss: 0.0149 - val_loss: 0.0223\n",
            "Epoch 3/20\n",
            "31/31 [==============================] - 0s 9ms/step - loss: 0.0054 - val_loss: 0.0086\n",
            "Epoch 4/20\n",
            "31/31 [==============================] - 0s 11ms/step - loss: 0.0014 - val_loss: 7.0088e-04\n",
            "Epoch 5/20\n",
            "31/31 [==============================] - 0s 10ms/step - loss: 6.9824e-04 - val_loss: 3.7994e-04\n",
            "Epoch 6/20\n",
            "31/31 [==============================] - 0s 10ms/step - loss: 6.5861e-04 - val_loss: 2.1032e-04\n",
            "Epoch 7/20\n",
            "31/31 [==============================] - 0s 11ms/step - loss: 6.5282e-04 - val_loss: 3.1766e-04\n",
            "Epoch 8/20\n",
            "31/31 [==============================] - 0s 11ms/step - loss: 6.4938e-04 - val_loss: 3.0077e-04\n",
            "Epoch 9/20\n",
            "31/31 [==============================] - 0s 9ms/step - loss: 6.3824e-04 - val_loss: 2.2926e-04\n",
            "Epoch 10/20\n",
            "31/31 [==============================] - 0s 11ms/step - loss: 6.3057e-04 - val_loss: 2.2950e-04\n",
            "Epoch 11/20\n",
            "31/31 [==============================] - 0s 11ms/step - loss: 6.0945e-04 - val_loss: 1.9513e-04\n",
            "Epoch 12/20\n",
            "31/31 [==============================] - 0s 11ms/step - loss: 5.9461e-04 - val_loss: 1.4578e-04\n",
            "Epoch 13/20\n",
            "31/31 [==============================] - 0s 10ms/step - loss: 5.6434e-04 - val_loss: 2.6449e-04\n",
            "Epoch 14/20\n",
            "31/31 [==============================] - 0s 9ms/step - loss: 5.8300e-04 - val_loss: 1.1899e-04\n",
            "Epoch 15/20\n",
            "31/31 [==============================] - 0s 10ms/step - loss: 5.6067e-04 - val_loss: 2.0757e-04\n",
            "Epoch 16/20\n",
            "31/31 [==============================] - 0s 10ms/step - loss: 5.4476e-04 - val_loss: 1.1727e-04\n",
            "Epoch 17/20\n",
            "31/31 [==============================] - 0s 10ms/step - loss: 5.3978e-04 - val_loss: 1.7625e-04\n",
            "Epoch 18/20\n",
            "31/31 [==============================] - 0s 10ms/step - loss: 5.1997e-04 - val_loss: 1.0467e-04\n",
            "Epoch 19/20\n",
            "31/31 [==============================] - 0s 10ms/step - loss: 5.1402e-04 - val_loss: 1.1959e-04\n",
            "Epoch 20/20\n",
            "31/31 [==============================] - 0s 10ms/step - loss: 5.0374e-04 - val_loss: 4.3203e-04\n"
          ]
        }
      ]
    },
    {
      "cell_type": "code",
      "source": [
        "training_loss = history.history['loss']\n",
        "val_loss = history.history['val_loss']\n",
        "epoch_count = range(1, len(training_loss) + 1)\n",
        "plt.plot(epoch_count, training_loss, 'r--')\n",
        "plt.plot(epoch_count, val_loss, 'b-')\n",
        "plt.legend(['Train Loss', 'Val Loss'])\n",
        "plt.xlabel('Epoch')\n",
        "plt.ylabel('Loss')\n",
        "plt.show();"
      ],
      "metadata": {
        "colab": {
          "base_uri": "https://localhost:8080/",
          "height": 279
        },
        "id": "_GGbZ3zuav-K",
        "outputId": "98179648-95f4-4dae-9203-379df1c53935"
      },
      "execution_count": null,
      "outputs": [
        {
          "output_type": "display_data",
          "data": {
            "text/plain": [
              "<Figure size 432x288 with 1 Axes>"
            ],
            "image/png": "[encoded data removed]"
          },
          "metadata": {
            "needs_background": "light"
          }
        }
      ]
    },
    {
      "cell_type": "code",
      "source": [
        "prediction_lstm = regressor_lstm.predict(X_test)\n",
        "prediction_lstm.shape\n",
        "math.sqrt(mean_squared_error(y_test, prediction))"
      ],
      "metadata": {
        "colab": {
          "base_uri": "https://localhost:8080/"
        },
        "id": "0J4EajThTEEA",
        "outputId": "2760d330-3752-4a14-f8ed-5b4106a27d74"
      },
      "execution_count": null,
      "outputs": [
        {
          "output_type": "stream",
          "name": "stdout",
          "text": [
            "3/3 [==============================] - 0s 4ms/step\n"
          ]
        },
        {
          "output_type": "execute_result",
          "data": {
            "text/plain": [
              "0.56199668526349"
            ]
          },
          "metadata": {},
          "execution_count": 30
        }
      ]
    },
    {
      "cell_type": "code",
      "source": [
        "# There is one single layer of GRU. It has 5 units. The activation function is default to tanh, and the recurrent activation function is default to sigmoid.\n",
        "# The output layer has 1 unit, and doesn't have an activation function (linear).\n",
        "\n",
        "regressor_gru = Sequential()\n",
        "regressor_gru.add(GRU(5))\n",
        "regressor_gru.add(Dense(units=1))\n",
        "regressor_gru.compile(loss=\"mean_squared_error\")\n",
        "history = regressor_gru.fit(X_train, y_train, epochs=20, validation_data=(X_val, y_val))"
      ],
      "metadata": {
        "colab": {
          "base_uri": "https://localhost:8080/"
        },
        "id": "62TSIvt-UqRR",
        "outputId": "a776c618-01a7-4ae2-d5e6-10e8ced9cd70"
      },
      "execution_count": null,
      "outputs": [
        {
          "output_type": "stream",
          "name": "stdout",
          "text": [
            "Epoch 1/20\n",
            "31/31 [==============================] - 4s 34ms/step - loss: 0.1914 - val_loss: 0.0200\n",
            "Epoch 2/20\n",
            "31/31 [==============================] - 1s 16ms/step - loss: 0.0774 - val_loss: 0.0716\n",
            "Epoch 3/20\n",
            "31/31 [==============================] - 1s 16ms/step - loss: 0.0419 - val_loss: 0.0949\n",
            "Epoch 4/20\n",
            "31/31 [==============================] - 0s 15ms/step - loss: 0.0305 - val_loss: 0.0619\n",
            "Epoch 5/20\n",
            "31/31 [==============================] - 0s 15ms/step - loss: 0.0205 - val_loss: 0.0409\n",
            "Epoch 6/20\n",
            "31/31 [==============================] - 0s 16ms/step - loss: 0.0116 - val_loss: 0.0173\n",
            "Epoch 7/20\n",
            "31/31 [==============================] - 1s 16ms/step - loss: 0.0047 - val_loss: 0.0056\n",
            "Epoch 8/20\n",
            "31/31 [==============================] - 0s 16ms/step - loss: 0.0011 - val_loss: 4.3880e-04\n",
            "Epoch 9/20\n",
            "31/31 [==============================] - 0s 15ms/step - loss: 4.1972e-04 - val_loss: 2.0573e-04\n",
            "Epoch 10/20\n",
            "31/31 [==============================] - 0s 15ms/step - loss: 4.1972e-04 - val_loss: 8.5055e-05\n",
            "Epoch 11/20\n",
            "31/31 [==============================] - 0s 16ms/step - loss: 4.0653e-04 - val_loss: 8.2379e-05\n",
            "Epoch 12/20\n",
            "31/31 [==============================] - 0s 15ms/step - loss: 4.1737e-04 - val_loss: 9.0173e-05\n",
            "Epoch 13/20\n",
            "31/31 [==============================] - 1s 16ms/step - loss: 3.9539e-04 - val_loss: 8.5956e-05\n",
            "Epoch 14/20\n",
            "31/31 [==============================] - 1s 17ms/step - loss: 3.9345e-04 - val_loss: 8.2523e-05\n",
            "Epoch 15/20\n",
            "31/31 [==============================] - 1s 17ms/step - loss: 3.7392e-04 - val_loss: 7.8980e-05\n",
            "Epoch 16/20\n",
            "31/31 [==============================] - 1s 17ms/step - loss: 3.8458e-04 - val_loss: 1.5511e-04\n",
            "Epoch 17/20\n",
            "31/31 [==============================] - 0s 15ms/step - loss: 3.7394e-04 - val_loss: 8.7518e-05\n",
            "Epoch 18/20\n",
            "31/31 [==============================] - 1s 16ms/step - loss: 3.7294e-04 - val_loss: 1.1023e-04\n",
            "Epoch 19/20\n",
            "31/31 [==============================] - 1s 17ms/step - loss: 3.5488e-04 - val_loss: 7.4916e-05\n",
            "Epoch 20/20\n",
            "31/31 [==============================] - 1s 16ms/step - loss: 3.4611e-04 - val_loss: 1.7306e-04\n"
          ]
        }
      ]
    },
    {
      "cell_type": "code",
      "source": [
        "training_loss = history.history['loss']\n",
        "val_loss = history.history['val_loss']\n",
        "epoch_count = range(1, len(training_loss) + 1)\n",
        "plt.plot(epoch_count, training_loss, 'r--')\n",
        "plt.plot(epoch_count, val_loss, 'b-')\n",
        "plt.legend(['Train Loss', 'Val Loss'])\n",
        "plt.xlabel('Epoch')\n",
        "plt.ylabel('Loss')\n",
        "plt.show();"
      ],
      "metadata": {
        "colab": {
          "base_uri": "https://localhost:8080/",
          "height": 282
        },
        "id": "N4f1vOVBbwjF",
        "outputId": "27e4e201-7361-435b-9f4b-94a5addb15f6"
      },
      "execution_count": null,
      "outputs": [
        {
          "output_type": "display_data",
          "data": {
            "text/plain": [
              "<Figure size 432x288 with 1 Axes>"
            ],
            "image/png": "[encoded data removed]"
          },
          "metadata": {
            "needs_background": "light"
          }
        }
      ]
    },
    {
      "cell_type": "code",
      "source": [
        "prediction_gru = regressor_gru.predict(X_test)\n",
        "prediction_gru.shape\n",
        "math.sqrt(mean_squared_error(y_test, prediction))"
      ],
      "metadata": {
        "colab": {
          "base_uri": "https://localhost:8080/"
        },
        "id": "rQyDr0b2UqZu",
        "outputId": "7f07e6f2-c542-46fb-8cd7-7f14a51c2ca8"
      },
      "execution_count": null,
      "outputs": [
        {
          "output_type": "stream",
          "name": "stdout",
          "text": [
            "3/3 [==============================] - 0s 8ms/step\n"
          ]
        },
        {
          "output_type": "execute_result",
          "data": {
            "text/plain": [
              "0.37348244033875255"
            ]
          },
          "metadata": {},
          "execution_count": 68
        }
      ]
    },
    {
      "cell_type": "markdown",
      "source": [
        "RNN suffers from short term memory due to the vanishing gradient problem. LSTM attempts to solve the vanishing gradient problem by implementing three gates: input gate, output gate, and forget gate. In a similar way, GRU has two gates: reset gate and update gate. In theory, simple RNN trains the fastest, and use the least memory. "
      ],
      "metadata": {
        "id": "4NjYVF5gW80p"
      }
    },
    {
      "cell_type": "markdown",
      "source": [
        "## Part 3\n"
      ],
      "metadata": {
        "id": "BsFGf1Ai6h2y"
      }
    },
    {
      "cell_type": "markdown",
      "source": [
        "I think a traditional feed-forward network can be applied in this case. Time serise data can work as some usual data feature, essentially by compressing the data into one lower dimension. However, this can dramatically increase the data size, or give up some correlation in order to preserve a reasonable data size. Overall, there is a probability to be disadvantage to use a feed-forward network in this case."
      ],
      "metadata": {
        "id": "uXPQG9Z8j45p"
      }
    },
    {
      "cell_type": "markdown",
      "source": [
        "# Task 2"
      ],
      "metadata": {
        "id": "ATaSPESD6lT6"
      }
    },
    {
      "cell_type": "code",
      "source": [
        "! pip install kaggle"
      ],
      "metadata": {
        "colab": {
          "base_uri": "https://localhost:8080/"
        },
        "id": "dB5VcprZjKFh",
        "outputId": "afa31bc5-ec0a-4f6c-cc10-102334a4ae94"
      },
      "execution_count": null,
      "outputs": [
        {
          "output_type": "stream",
          "name": "stdout",
          "text": [
            "Looking in indexes: https://pypi.org/simple, https://us-python.pkg.dev/colab-wheels/public/simple/\n",
            "Requirement already satisfied: kaggle in /usr/local/lib/python3.7/dist-packages (1.5.12)\n",
            "Requirement already satisfied: urllib3 in /usr/local/lib/python3.7/dist-packages (from kaggle) (1.24.3)\n",
            "Requirement already satisfied: six>=1.10 in /usr/local/lib/python3.7/dist-packages (from kaggle) (1.15.0)\n",
            "Requirement already satisfied: requests in /usr/local/lib/python3.7/dist-packages (from kaggle) (2.23.0)\n",
            "Requirement already satisfied: tqdm in /usr/local/lib/python3.7/dist-packages (from kaggle) (4.64.1)\n",
            "Requirement already satisfied: python-slugify in /usr/local/lib/python3.7/dist-packages (from kaggle) (6.1.2)\n",
            "Requirement already satisfied: certifi in /usr/local/lib/python3.7/dist-packages (from kaggle) (2022.9.24)\n",
            "Requirement already satisfied: python-dateutil in /usr/local/lib/python3.7/dist-packages (from kaggle) (2.8.2)\n",
            "Requirement already satisfied: text-unidecode>=1.3 in /usr/local/lib/python3.7/dist-packages (from python-slugify->kaggle) (1.3)\n",
            "Requirement already satisfied: chardet<4,>=3.0.2 in /usr/local/lib/python3.7/dist-packages (from requests->kaggle) (3.0.4)\n",
            "Requirement already satisfied: idna<3,>=2.5 in /usr/local/lib/python3.7/dist-packages (from requests->kaggle) (2.10)\n"
          ]
        }
      ]
    },
    {
      "cell_type": "code",
      "source": [
        "from google.colab import drive\n",
        "drive.mount('/content/drive', force_remount=True)"
      ],
      "metadata": {
        "colab": {
          "base_uri": "https://localhost:8080/"
        },
        "id": "0gQWLWFKjP8O",
        "outputId": "8148b849-af92-45c5-9078-5cb5fd71a03a"
      },
      "execution_count": null,
      "outputs": [
        {
          "output_type": "stream",
          "name": "stdout",
          "text": [
            "Mounted at /content/drive\n"
          ]
        }
      ]
    },
    {
      "cell_type": "code",
      "source": [
        "! mkdir ~/.kaggle"
      ],
      "metadata": {
        "id": "UZCs25Flkgau"
      },
      "execution_count": null,
      "outputs": []
    },
    {
      "cell_type": "code",
      "source": [
        "!cp /content/drive/MyDrive/datasets/kaggle.json ~/.kaggle/kaggle.json"
      ],
      "metadata": {
        "id": "LTArmQPikvuN"
      },
      "execution_count": null,
      "outputs": []
    },
    {
      "cell_type": "code",
      "source": [
        "! chmod 600 ~/.kaggle/kaggle.json"
      ],
      "metadata": {
        "id": "aV6MmECHlDaR"
      },
      "execution_count": null,
      "outputs": []
    },
    {
      "cell_type": "code",
      "source": [
        "# https://www.kaggle.com/datasets/leadbest/googlenewsvectorsnegative300\n",
        "! kaggle datasets download leadbest/googlenewsvectorsnegative300"
      ],
      "metadata": {
        "colab": {
          "base_uri": "https://localhost:8080/"
        },
        "id": "ZeCeHrCLlIKf",
        "outputId": "6ed0a6ae-044f-4c0a-cb6e-d86849d95fd2"
      },
      "execution_count": null,
      "outputs": [
        {
          "output_type": "stream",
          "name": "stdout",
          "text": [
            "Downloading googlenewsvectorsnegative300.zip to /content\n",
            "100% 3.16G/3.17G [00:28<00:00, 128MB/s]\n",
            "100% 3.17G/3.17G [00:28<00:00, 120MB/s]\n"
          ]
        }
      ]
    },
    {
      "cell_type": "code",
      "source": [
        "! unzip googlenewsvectorsnegative300.zip"
      ],
      "metadata": {
        "colab": {
          "base_uri": "https://localhost:8080/"
        },
        "id": "zz76PfgKop1y",
        "outputId": "c044d87d-9999-4345-b9b6-725834036e90"
      },
      "execution_count": null,
      "outputs": [
        {
          "output_type": "stream",
          "name": "stdout",
          "text": [
            "Archive:  googlenewsvectorsnegative300.zip\n",
            "  inflating: GoogleNews-vectors-negative300.bin  \n",
            "  inflating: GoogleNews-vectors-negative300.bin.gz  \n"
          ]
        }
      ]
    },
    {
      "cell_type": "code",
      "source": [
        "word_vectors = KeyedVectors.load_word2vec_format(\"GoogleNews-vectors-negative300.bin\", binary=True)\n"
      ],
      "metadata": {
        "id": "l1Hec34DqPvx"
      },
      "execution_count": null,
      "outputs": []
    },
    {
      "cell_type": "code",
      "source": [
        "def words_similarity(w1, w2):\n",
        "  v_1 = word_vectors[w1] \n",
        "  v_2 = word_vectors[w2]\n",
        "  print('cosine similarity:' + str(cosine_similarity([v_1],[v_2])))\n",
        "  # The dissimilarity score is defined as 1 - cosine similarity\n",
        "  print('dissimilarity:' + str(1 - cosine_similarity([v_1],[v_2])))"
      ],
      "metadata": {
        "id": "IffntnFNrKCs"
      },
      "execution_count": null,
      "outputs": []
    },
    {
      "cell_type": "code",
      "source": [
        "words_similarity(\"france\", \"spain\")"
      ],
      "metadata": {
        "id": "PAljlRp1Dm4H",
        "colab": {
          "base_uri": "https://localhost:8080/"
        },
        "outputId": "dbadfdaf-e73b-4ec0-c3fe-514b56bb5dc1"
      },
      "execution_count": null,
      "outputs": [
        {
          "output_type": "stream",
          "name": "stdout",
          "text": [
            "cosine similarity:[[0.6375304]]\n",
            "dissimilarity:[[0.3624696]]\n"
          ]
        }
      ]
    },
    {
      "cell_type": "code",
      "source": [
        "words_similarity(\"france\", \"paris\")"
      ],
      "metadata": {
        "colab": {
          "base_uri": "https://localhost:8080/"
        },
        "id": "FTWMF7NLyqEm",
        "outputId": "26b80626-b3e0-4961-f868-ccb5f97bf433"
      },
      "execution_count": null,
      "outputs": [
        {
          "output_type": "stream",
          "name": "stdout",
          "text": [
            "cosine similarity:[[0.55507964]]\n",
            "dissimilarity:[[0.44492036]]\n"
          ]
        }
      ]
    },
    {
      "cell_type": "code",
      "source": [
        "words_similarity(\"albany\", \"troy\")"
      ],
      "metadata": {
        "colab": {
          "base_uri": "https://localhost:8080/"
        },
        "id": "1I74XamEzFm0",
        "outputId": "f6a409a2-882c-466c-fd32-11eed93629c8"
      },
      "execution_count": null,
      "outputs": [
        {
          "output_type": "stream",
          "name": "stdout",
          "text": [
            "cosine similarity:[[0.47387636]]\n",
            "dissimilarity:[[0.52612364]]\n"
          ]
        }
      ]
    }
  ]
}