{
  "nbformat": 4,
  "nbformat_minor": 0,
  "metadata": {
    "colab": {
      "provenance": [],
      "collapsed_sections": [
        "DSueoBFkgMfJ",
        "80UDmKlEoDQZ"
      ]
    },
    "kernelspec": {
      "name": "python3",
      "display_name": "Python 3"
    },
    "language_info": {
      "name": "python"
    },
    "accelerator": "GPU",
    "gpuClass": "standard"
  },
  "cells": [
    {
      "cell_type": "markdown",
      "source": [
        "# Task 1\n",
        "\n",
        "As somebody who is interested in the car industry, I stumbled upon a dataset that shows car purchase decisions. The dataset comes with some of the crucial factors including the customers' gender, age, and annual income.\n",
        "\n",
        "This is an ideal choice for working with linear regression since this is a classification problem. The output of the problem is only one of the two: purchased or didn't purchase. \n"
      ],
      "metadata": {
        "id": "DSueoBFkgMfJ"
      }
    },
    {
      "cell_type": "markdown",
      "source": [
        "# Task 2"
      ],
      "metadata": {
        "id": "80UDmKlEoDQZ"
      }
    },
    {
      "cell_type": "code",
      "execution_count": 163,
      "metadata": {
        "id": "91I4z9B78QKe"
      },
      "outputs": [],
      "source": [
        "# Import necessary libraries\n",
        "import pandas as pd\n",
        "import matplotlib.pyplot as plt\n",
        "import seaborn as sns\n",
        "import numpy as np\n",
        "from sklearn.model_selection import train_test_split\n",
        "from sklearn.linear_model import LogisticRegression\n",
        "from sklearn.svm import SVC\n",
        "from sklearn.ensemble import RandomForestClassifier\n",
        "from sklearn.ensemble import GradientBoostingClassifier\n",
        "from sklearn.metrics import accuracy_score\n",
        "from sklearn.metrics import f1_score\n",
        "from sklearn.preprocessing import Normalizer\n",
        "import time\n",
        "import warnings\n",
        "warnings.filterwarnings(\"ignore\")"
      ]
    },
    {
      "cell_type": "code",
      "source": [
        "# upload and read the file\n",
        "# source: https://www.kaggle.com/datasets/gabrielsantello/cars-purchase-decision-dataset?resource=download\n",
        "from google.colab import drive\n",
        "drive.mount('/content/drive')\n",
        "df = pd.read_csv('drive/MyDrive/datasets/car_data.csv')"
      ],
      "metadata": {
        "colab": {
          "base_uri": "https://localhost:8080/"
        },
        "id": "zD0V8GYQA6kE",
        "outputId": "dac6193f-39f5-4291-8b44-2d5bcaf5500e"
      },
      "execution_count": 164,
      "outputs": [
        {
          "output_type": "stream",
          "name": "stdout",
          "text": [
            "Drive already mounted at /content/drive; to attempt to forcibly remount, call drive.mount(\"/content/drive\", force_remount=True).\n"
          ]
        }
      ]
    },
    {
      "cell_type": "code",
      "source": [
        "# Detects missing values\n",
        "df.isna().sum()"
      ],
      "metadata": {
        "colab": {
          "base_uri": "https://localhost:8080/"
        },
        "id": "sQTafFT09qtu",
        "outputId": "6c855096-675e-47ca-b212-eeff63e3f442"
      },
      "execution_count": 165,
      "outputs": [
        {
          "output_type": "execute_result",
          "data": {
            "text/plain": [
              "User ID         0\n",
              "Gender          0\n",
              "Age             0\n",
              "AnnualSalary    0\n",
              "Purchased       0\n",
              "dtype: int64"
            ]
          },
          "metadata": {},
          "execution_count": 165
        }
      ]
    },
    {
      "cell_type": "code",
      "source": [
        "# Describes the statistics of the numerical data\n",
        "df.describe()"
      ],
      "metadata": {
        "colab": {
          "base_uri": "https://localhost:8080/",
          "height": 300
        },
        "id": "oeG0Bd4TCCye",
        "outputId": "5f710230-8b3f-4c33-ec55-2aa54e6a71d7"
      },
      "execution_count": 166,
      "outputs": [
        {
          "output_type": "execute_result",
          "data": {
            "text/plain": [
              "           User ID          Age   AnnualSalary    Purchased\n",
              "count  1000.000000  1000.000000    1000.000000  1000.000000\n",
              "mean    500.500000    40.106000   72689.000000     0.402000\n",
              "std     288.819436    10.707073   34488.341867     0.490547\n",
              "min       1.000000    18.000000   15000.000000     0.000000\n",
              "25%     250.750000    32.000000   46375.000000     0.000000\n",
              "50%     500.500000    40.000000   72000.000000     0.000000\n",
              "75%     750.250000    48.000000   90000.000000     1.000000\n",
              "max    1000.000000    63.000000  152500.000000     1.000000"
            ],
            "text/html": [
              "\n",
              "  <div id=\"df-50684303-f7ee-4a1f-bd47-20f5eec387f8\">\n",
              "    <div class=\"colab-df-container\">\n",
              "      <div>\n",
              "<style scoped>\n",
              "    .dataframe tbody tr th:only-of-type {\n",
              "        vertical-align: middle;\n",
              "    }\n",
              "\n",
              "    .dataframe tbody tr th {\n",
              "        vertical-align: top;\n",
              "    }\n",
              "\n",
              "    .dataframe thead th {\n",
              "        text-align: right;\n",
              "    }\n",
              "</style>\n",
              "<table border=\"1\" class=\"dataframe\">\n",
              "  <thead>\n",
              "    <tr style=\"text-align: right;\">\n",
              "      <th></th>\n",
              "      <th>User ID</th>\n",
              "      <th>Age</th>\n",
              "      <th>AnnualSalary</th>\n",
              "      <th>Purchased</th>\n",
              "    </tr>\n",
              "  </thead>\n",
              "  <tbody>\n",
              "    <tr>\n",
              "      <th>count</th>\n",
              "      <td>1000.000000</td>\n",
              "      <td>1000.000000</td>\n",
              "      <td>1000.000000</td>\n",
              "      <td>1000.000000</td>\n",
              "    </tr>\n",
              "    <tr>\n",
              "      <th>mean</th>\n",
              "      <td>500.500000</td>\n",
              "      <td>40.106000</td>\n",
              "      <td>72689.000000</td>\n",
              "      <td>0.402000</td>\n",
              "    </tr>\n",
              "    <tr>\n",
              "      <th>std</th>\n",
              "      <td>288.819436</td>\n",
              "      <td>10.707073</td>\n",
              "      <td>34488.341867</td>\n",
              "      <td>0.490547</td>\n",
              "    </tr>\n",
              "    <tr>\n",
              "      <th>min</th>\n",
              "      <td>1.000000</td>\n",
              "      <td>18.000000</td>\n",
              "      <td>15000.000000</td>\n",
              "      <td>0.000000</td>\n",
              "    </tr>\n",
              "    <tr>\n",
              "      <th>25%</th>\n",
              "      <td>250.750000</td>\n",
              "      <td>32.000000</td>\n",
              "      <td>46375.000000</td>\n",
              "      <td>0.000000</td>\n",
              "    </tr>\n",
              "    <tr>\n",
              "      <th>50%</th>\n",
              "      <td>500.500000</td>\n",
              "      <td>40.000000</td>\n",
              "      <td>72000.000000</td>\n",
              "      <td>0.000000</td>\n",
              "    </tr>\n",
              "    <tr>\n",
              "      <th>75%</th>\n",
              "      <td>750.250000</td>\n",
              "      <td>48.000000</td>\n",
              "      <td>90000.000000</td>\n",
              "      <td>1.000000</td>\n",
              "    </tr>\n",
              "    <tr>\n",
              "      <th>max</th>\n",
              "      <td>1000.000000</td>\n",
              "      <td>63.000000</td>\n",
              "      <td>152500.000000</td>\n",
              "      <td>1.000000</td>\n",
              "    </tr>\n",
              "  </tbody>\n",
              "</table>\n",
              "</div>\n",
              "      <button class=\"colab-df-convert\" onclick=\"convertToInteractive('df-50684303-f7ee-4a1f-bd47-20f5eec387f8')\"\n",
              "              title=\"Convert this dataframe to an interactive table.\"\n",
              "              style=\"display:none;\">\n",
              "        \n",
              "  <svg xmlns=\"http://www.w3.org/2000/svg\" height=\"24px\"viewBox=\"0 0 24 24\"\n",
              "       width=\"24px\">\n",
              "    <path d=\"M0 0h24v24H0V0z\" fill=\"none\"/>\n",
              "    <path d=\"M18.56 5.44l.94 2.06.94-2.06 2.06-.94-2.06-.94-.94-2.06-.94 2.06-2.06.94zm-11 1L8.5 8.5l.94-2.06 2.06-.94-2.06-.94L8.5 2.5l-.94 2.06-2.06.94zm10 10l.94 2.06.94-2.06 2.06-.94-2.06-.94-.94-2.06-.94 2.06-2.06.94z\"/><path d=\"M17.41 7.96l-1.37-1.37c-.4-.4-.92-.59-1.43-.59-.52 0-1.04.2-1.43.59L10.3 9.45l-7.72 7.72c-.78.78-.78 2.05 0 2.83L4 21.41c.39.39.9.59 1.41.59.51 0 1.02-.2 1.41-.59l7.78-7.78 2.81-2.81c.8-.78.8-2.07 0-2.86zM5.41 20L4 18.59l7.72-7.72 1.47 1.35L5.41 20z\"/>\n",
              "  </svg>\n",
              "      </button>\n",
              "      \n",
              "  <style>\n",
              "    .colab-df-container {\n",
              "      display:flex;\n",
              "      flex-wrap:wrap;\n",
              "      gap: 12px;\n",
              "    }\n",
              "\n",
              "    .colab-df-convert {\n",
              "      background-color: #E8F0FE;\n",
              "      border: none;\n",
              "      border-radius: 50%;\n",
              "      cursor: pointer;\n",
              "      display: none;\n",
              "      fill: #1967D2;\n",
              "      height: 32px;\n",
              "      padding: 0 0 0 0;\n",
              "      width: 32px;\n",
              "    }\n",
              "\n",
              "    .colab-df-convert:hover {\n",
              "      background-color: #E2EBFA;\n",
              "      box-shadow: 0px 1px 2px rgba(60, 64, 67, 0.3), 0px 1px 3px 1px rgba(60, 64, 67, 0.15);\n",
              "      fill: #174EA6;\n",
              "    }\n",
              "\n",
              "    [theme=dark] .colab-df-convert {\n",
              "      background-color: #3B4455;\n",
              "      fill: #D2E3FC;\n",
              "    }\n",
              "\n",
              "    [theme=dark] .colab-df-convert:hover {\n",
              "      background-color: #434B5C;\n",
              "      box-shadow: 0px 1px 3px 1px rgba(0, 0, 0, 0.15);\n",
              "      filter: drop-shadow(0px 1px 2px rgba(0, 0, 0, 0.3));\n",
              "      fill: #FFFFFF;\n",
              "    }\n",
              "  </style>\n",
              "\n",
              "      <script>\n",
              "        const buttonEl =\n",
              "          document.querySelector('#df-50684303-f7ee-4a1f-bd47-20f5eec387f8 button.colab-df-convert');\n",
              "        buttonEl.style.display =\n",
              "          google.colab.kernel.accessAllowed ? 'block' : 'none';\n",
              "\n",
              "        async function convertToInteractive(key) {\n",
              "          const element = document.querySelector('#df-50684303-f7ee-4a1f-bd47-20f5eec387f8');\n",
              "          const dataTable =\n",
              "            await google.colab.kernel.invokeFunction('convertToInteractive',\n",
              "                                                     [key], {});\n",
              "          if (!dataTable) return;\n",
              "\n",
              "          const docLinkHtml = 'Like what you see? Visit the ' +\n",
              "            '<a target=\"_blank\" href=https://colab.research.google.com/notebooks/data_table.ipynb>data table notebook</a>'\n",
              "            + ' to learn more about interactive tables.';\n",
              "          element.innerHTML = '';\n",
              "          dataTable['output_type'] = 'display_data';\n",
              "          await google.colab.output.renderOutput(dataTable, element);\n",
              "          const docLink = document.createElement('div');\n",
              "          docLink.innerHTML = docLinkHtml;\n",
              "          element.appendChild(docLink);\n",
              "        }\n",
              "      </script>\n",
              "    </div>\n",
              "  </div>\n",
              "  "
            ]
          },
          "metadata": {},
          "execution_count": 166
        }
      ]
    },
    {
      "cell_type": "code",
      "source": [
        "# Check if this is a balanced data\n",
        "df.Purchased.value_counts(normalize=True)"
      ],
      "metadata": {
        "colab": {
          "base_uri": "https://localhost:8080/"
        },
        "id": "Yaqg0Kw2C9-p",
        "outputId": "9acce83f-ce0a-40db-bbdb-86bb2a1b517e"
      },
      "execution_count": 167,
      "outputs": [
        {
          "output_type": "execute_result",
          "data": {
            "text/plain": [
              "0    0.598\n",
              "1    0.402\n",
              "Name: Purchased, dtype: float64"
            ]
          },
          "metadata": {},
          "execution_count": 167
        }
      ]
    },
    {
      "cell_type": "markdown",
      "source": [
        "This is balanced data"
      ],
      "metadata": {
        "id": "_NrkylVcT7E_"
      }
    },
    {
      "cell_type": "code",
      "source": [
        "# Using scatter plot to identify the relationship of age and annual salary\n",
        "ig, ax = plt.subplots(figsize=(5,5))\n",
        "ax.scatter(df.Age, df.AnnualSalary)\n",
        "ax.set_xlabel('Age')\n",
        "ax.set_ylabel('AnnualSalary')"
      ],
      "metadata": {
        "colab": {
          "base_uri": "https://localhost:8080/",
          "height": 351
        },
        "id": "79Ro80QoErNb",
        "outputId": "8bf154a2-f2ac-4a20-82cd-d6c6007262b8"
      },
      "execution_count": 168,
      "outputs": [
        {
          "output_type": "execute_result",
          "data": {
            "text/plain": [
              "Text(0, 0.5, 'AnnualSalary')"
            ]
          },
          "metadata": {},
          "execution_count": 168
        },
        {
          "output_type": "display_data",
          "data": {
            "text/plain": [
              "<Figure size 360x360 with 1 Axes>"
            ],
            "image/png": "[encoded data removed]"
          },
          "metadata": {
            "needs_background": "light"
          }
        }
      ]
    },
    {
      "cell_type": "markdown",
      "source": [
        "According to the scatterplot, there is no strong correlation between the age and salary of buyers. The dataset provides well-distributed samples."
      ],
      "metadata": {
        "id": "thCB19PoUOSG"
      }
    },
    {
      "cell_type": "code",
      "source": [
        "g = sns.FacetGrid(df, col='Purchased', height=5)\n",
        "g.map(plt.hist, 'Age', bins=20)\n",
        "g = sns.FacetGrid(df, col='Purchased', height=5)\n",
        "g.map(plt.hist, 'AnnualSalary', bins=20)"
      ],
      "metadata": {
        "colab": {
          "base_uri": "https://localhost:8080/",
          "height": 738
        },
        "id": "unlE1P9IE3Ck",
        "outputId": "07e2a3ac-9abd-43de-9ec1-fc0e60c88a79"
      },
      "execution_count": 169,
      "outputs": [
        {
          "output_type": "execute_result",
          "data": {
            "text/plain": [
              "<seaborn.axisgrid.FacetGrid at 0x7fccb49a1810>"
            ]
          },
          "metadata": {},
          "execution_count": 169
        },
        {
          "output_type": "display_data",
          "data": {
            "text/plain": [
              "<Figure size 720x360 with 2 Axes>"
            ],
            "image/png": "[encoded data removed]"
          },
          "metadata": {
            "needs_background": "light"
          }
        },
        {
          "output_type": "display_data",
          "data": {
            "text/plain": [
              "<Figure size 720x360 with 2 Axes>"
            ],
            "image/png": "[encoded data removed]"
          },
          "metadata": {
            "needs_background": "light"
          }
        }
      ]
    },
    {
      "cell_type": "markdown",
      "source": [
        "Overall, people who are older are more likely to make a purchase decision."
      ],
      "metadata": {
        "id": "VFB9oQvGUm_d"
      }
    },
    {
      "cell_type": "code",
      "source": [
        "# Convert all sex labels to numerical values\n",
        "df.Gender = df.Gender.map({ 'Male': 0, 'Female': 1 })"
      ],
      "metadata": {
        "id": "K6nkQBwCQdH7"
      },
      "execution_count": 170,
      "outputs": []
    },
    {
      "cell_type": "markdown",
      "source": [
        "# Task 3"
      ],
      "metadata": {
        "id": "meQ-CaPSiu8v"
      }
    },
    {
      "cell_type": "code",
      "source": [
        "# Defines the sigmoid function\n",
        "def sigmoid(x):\n",
        "  return 1/(1 + np.exp(-x))"
      ],
      "metadata": {
        "id": "pH_l6z6fitVD"
      },
      "execution_count": 201,
      "outputs": []
    },
    {
      "cell_type": "code",
      "source": [
        "# The batch algorithm\n",
        "def batch(data, learning_rate, itr):\n",
        "  start = time.time()\n",
        "\n",
        "  # Data partitioning\n",
        "  X = data.drop(['Purchased'], axis=1)\n",
        "  y = data.Purchased\n",
        "  X_train, X_test, y_train, y_test = train_test_split(X, y, test_size=0.2)\n",
        "  \n",
        "  transformer = Normalizer(norm='max').fit(X_train)\n",
        "  X_train = transformer.transform(X_train)\n",
        "  X_test = transformer.transform(X_test)\n",
        "\n",
        "  # Generates initial values\n",
        "  m, n = X_train.shape\n",
        "  w = np.random.random(size=n)\n",
        "  b = np.random.random()\n",
        "\n",
        "  for i in range(itr):\n",
        "    A = sigmoid(np.dot(w, X_train.T) + b)\n",
        "    # cost = -1/n * np.sum(y * np.log(A) + (1-y) * (np.log(1-A)))\n",
        "    dw = np.dot(X_train.T, (A-y_train).T)/m\n",
        "    db = np.sum(A-y_train)/m\n",
        "    w = w - learning_rate * dw\n",
        "    b = b - learning_rate * db\n",
        "  end = time.time()\n",
        "  print('Time spent: '+str(end-start))\n",
        "  return((np.round(sigmoid(np.dot(w, X_test.T) + b)) == y_test).mean())\n"
      ],
      "metadata": {
        "id": "H96yktkP4Acy"
      },
      "execution_count": 202,
      "outputs": []
    },
    {
      "cell_type": "code",
      "source": [
        "from sklearn.utils import shuffle\n",
        "# The mini-batch algorithm\n",
        "def mini_batch(data, learning_rate, itr):\n",
        "  start = time.time()\n",
        "\n",
        "  # Data partitioning\n",
        "  data_train, data_test = train_test_split(data, test_size=0.2)\n",
        "\n",
        "  X_test = data_test.drop(['Purchased'], axis=1)\n",
        "  y_test = data_test.Purchased\n",
        "\n",
        "  # Generates initial values\n",
        "  m, n = data_train.shape\n",
        "  n -= 1\n",
        "  w = np.random.random(size=n)\n",
        "  b = np.random.random()\n",
        "\n",
        "  batch_size = 50\n",
        "\n",
        "  for i in range(itr):\n",
        "    # Shuffles training data for every iteration\n",
        "    data_train = shuffle(data_train)\n",
        "    X_train = data_train.drop(['Purchased'], axis=1)\n",
        "    y_train = data_train.Purchased\n",
        "\n",
        "    checked = 0\n",
        "    while checked < m:\n",
        "      # Selects a portion of the training data\n",
        "      batch_tmp = min(batch_size, m - checked)\n",
        "      X_batch = X_train[checked:checked + batch_tmp]\n",
        "      y_batch = y_train[checked:checked + batch_tmp]\n",
        "      checked += batch_tmp\n",
        "      \n",
        "      A = sigmoid(np.dot(w, X_batch.T) + b)\n",
        "      # cost = -1/n * np.sum(y * np.log(A) + (1-y) * (np.log(1-A)))\n",
        "      dw = np.dot(X_batch.T, (A-y_batch).T)/m\n",
        "      db = np.sum(A-y_batch)/m\n",
        "      w = w - learning_rate * dw\n",
        "      b = b - learning_rate * db\n",
        "\n",
        "  end = time.time()\n",
        "  print('Time spent: '+str(end-start))\n",
        "  return((np.round(sigmoid(np.dot(w, X_test.T) + b)) == y_test).mean())"
      ],
      "metadata": {
        "id": "-Tn_C_9q6zYE"
      },
      "execution_count": 203,
      "outputs": []
    },
    {
      "cell_type": "code",
      "source": [
        "(batch(df.copy(), 0.1, 100))"
      ],
      "metadata": {
        "colab": {
          "base_uri": "https://localhost:8080/"
        },
        "id": "09Rkl2HO5qDz",
        "outputId": "4423cc00-470b-430e-d519-9ee9d11fab09"
      },
      "execution_count": 214,
      "outputs": [
        {
          "output_type": "stream",
          "name": "stdout",
          "text": [
            "Time spent: 0.04901266098022461\n"
          ]
        },
        {
          "output_type": "execute_result",
          "data": {
            "text/plain": [
              "0.61"
            ]
          },
          "metadata": {},
          "execution_count": 214
        }
      ]
    },
    {
      "cell_type": "code",
      "source": [
        "(mini_batch(df.copy(), 0.01, 100))"
      ],
      "metadata": {
        "id": "LExgQwREHsvJ",
        "colab": {
          "base_uri": "https://localhost:8080/"
        },
        "outputId": "c7c11647-0270-4b8b-8ff3-a2fdb8b6da40"
      },
      "execution_count": 215,
      "outputs": [
        {
          "output_type": "stream",
          "name": "stdout",
          "text": [
            "Time spent: 1.6360363960266113\n"
          ]
        },
        {
          "output_type": "execute_result",
          "data": {
            "text/plain": [
              "0.625"
            ]
          },
          "metadata": {},
          "execution_count": 215
        }
      ]
    },
    {
      "cell_type": "markdown",
      "source": [
        "# Task 4"
      ],
      "metadata": {
        "id": "RHMcT6A6Wj58"
      }
    },
    {
      "cell_type": "code",
      "source": [
        "from sklearn.datasets import load_iris\n",
        "from sklearn.linear_model import LogisticRegression\n",
        "X = df.drop(['Purchased'], axis=1)\n",
        "y = df.Purchased\n",
        "X_train, X_test, y_train, y_test = train_test_split(X, y, test_size=0.2)\n",
        "transformer = Normalizer(norm='max').fit(X_train)\n",
        "X_train = transformer.transform(X_train)\n",
        "X_test = transformer.transform(X_test)\n",
        "\n",
        "# Uses sklearn's default solver lbfgs as optimization\n",
        "start = time.time()\n",
        "clf = LogisticRegression(class_weight='balanced', random_state=0).fit(X_train, y_train)\n",
        "y_pred_clf = clf.predict(X_test)\n",
        "print(accuracy_score(y_test, y_pred_clf))\n",
        "end = time.time()\n",
        "print('Time spent: '+str(end-start))"
      ],
      "metadata": {
        "colab": {
          "base_uri": "https://localhost:8080/"
        },
        "id": "85XUJTW1sovA",
        "outputId": "c28a15a5-37f4-4adc-e3a8-a52db41c2d7a"
      },
      "execution_count": 195,
      "outputs": [
        {
          "output_type": "stream",
          "name": "stdout",
          "text": [
            "0.505\n",
            "Time spent: 0.004178762435913086\n"
          ]
        }
      ]
    },
    {
      "cell_type": "code",
      "source": [
        "# Uses sklearn's solver newton-cg as optimization\n",
        "start = time.time()\n",
        "clf = LogisticRegression(class_weight='balanced', random_state=0, solver='liblinear').fit(X_train, y_train)\n",
        "y_pred_clf = clf.predict(X_test)\n",
        "print(accuracy_score(y_test, y_pred_clf))\n",
        "end = time.time()\n",
        "print('Time spent: '+str(end-start))"
      ],
      "metadata": {
        "colab": {
          "base_uri": "https://localhost:8080/"
        },
        "id": "N1A3oW1NazY1",
        "outputId": "06b9a5e4-5c1d-4dc9-8417-b4615755ab2e"
      },
      "execution_count": 200,
      "outputs": [
        {
          "output_type": "stream",
          "name": "stdout",
          "text": [
            "0.505\n",
            "Time spent: 0.013037443161010742\n"
          ]
        }
      ]
    },
    {
      "cell_type": "markdown",
      "source": [
        "By Comparison, the unoptimized versions implemented in task 3 are much slower. Between batch and mini-batch, mini-batch takes a lot more time, and has a slight increse in accuracy. Between the two versions of solvers from sklearn, lbfgs takes the least amount of time, and the two has similar accuracy.  "
      ],
      "metadata": {
        "id": "Xw_AqlaEcQZ3"
      }
    }
  ]
}